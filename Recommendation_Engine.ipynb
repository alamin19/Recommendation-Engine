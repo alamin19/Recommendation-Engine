{
  "nbformat": 4,
  "nbformat_minor": 0,
  "metadata": {
    "colab": {
      "name": "Recommendation_Engine.ipynb",
      "provenance": [],
      "authorship_tag": "ABX9TyNeeqXjHiXcKZILE1d4bh5N",
      "include_colab_link": true
    },
    "kernelspec": {
      "name": "python3",
      "display_name": "Python 3"
    },
    "language_info": {
      "name": "python"
    }
  },
  "cells": [
    {
      "cell_type": "markdown",
      "metadata": {
        "id": "view-in-github",
        "colab_type": "text"
      },
      "source": [
        "<a href=\"https://colab.research.google.com/github/alamin19/Recommendation-Engine/blob/main/Recommendation_Engine.ipynb\" target=\"_parent\"><img src=\"https://colab.research.google.com/assets/colab-badge.svg\" alt=\"Open In Colab\"/></a>"
      ]
    },
    {
      "cell_type": "code",
      "metadata": {
        "id": "OC8fo-TQ62es"
      },
      "source": [
        "import pandas as pd\n",
        "import numpy as np\n",
        "from sklearn.metrics.pairwise import cosine_similarity\n",
        "from sklearn.feature_extraction.text import CountVectorizer"
      ],
      "execution_count": 3,
      "outputs": []
    },
    {
      "cell_type": "code",
      "metadata": {
        "colab": {
          "resources": {
            "http://localhost:8080/nbextensions/google.colab/files.js": {
              "data": "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",
              "ok": true,
              "headers": [
                [
                  "content-type",
                  "application/javascript"
                ]
              ],
              "status": 200,
              "status_text": ""
            }
          },
          "base_uri": "https://localhost:8080/",
          "height": 72
        },
        "id": "YtpOQnoX72sO",
        "outputId": "a174f5df-f6ac-4116-8e22-f9a4053c9f8e"
      },
      "source": [
        "from google.colab import files\n",
        "uploaded = files.upload()"
      ],
      "execution_count": 4,
      "outputs": [
        {
          "output_type": "display_data",
          "data": {
            "text/html": [
              "\n",
              "     <input type=\"file\" id=\"files-95874131-840b-4ca0-8016-65eb193e136d\" name=\"files[]\" multiple disabled\n",
              "        style=\"border:none\" />\n",
              "     <output id=\"result-95874131-840b-4ca0-8016-65eb193e136d\">\n",
              "      Upload widget is only available when the cell has been executed in the\n",
              "      current browser session. Please rerun this cell to enable.\n",
              "      </output>\n",
              "      <script src=\"/nbextensions/google.colab/files.js\"></script> "
            ],
            "text/plain": [
              "<IPython.core.display.HTML object>"
            ]
          },
          "metadata": {
            "tags": []
          }
        },
        {
          "output_type": "stream",
          "text": [
            "Saving IMDB-Movie-Data.csv to IMDB-Movie-Data (1).csv\n"
          ],
          "name": "stdout"
        }
      ]
    },
    {
      "cell_type": "code",
      "metadata": {
        "colab": {
          "base_uri": "https://localhost:8080/",
          "height": 468
        },
        "id": "cEnYXlu5793v",
        "outputId": "d6347d7d-47a5-441d-9f6d-7453627279bc"
      },
      "source": [
        "df = pd.read_csv('IMDB-Movie-Data.csv')\n",
        "df.head(3)\n",
        "df['Movie_id'] = range(0,1000)\n",
        "df.head(3)"
      ],
      "execution_count": 5,
      "outputs": [
        {
          "output_type": "execute_result",
          "data": {
            "text/html": [
              "<div>\n",
              "<style scoped>\n",
              "    .dataframe tbody tr th:only-of-type {\n",
              "        vertical-align: middle;\n",
              "    }\n",
              "\n",
              "    .dataframe tbody tr th {\n",
              "        vertical-align: top;\n",
              "    }\n",
              "\n",
              "    .dataframe thead th {\n",
              "        text-align: right;\n",
              "    }\n",
              "</style>\n",
              "<table border=\"1\" class=\"dataframe\">\n",
              "  <thead>\n",
              "    <tr style=\"text-align: right;\">\n",
              "      <th></th>\n",
              "      <th>Rank</th>\n",
              "      <th>Title</th>\n",
              "      <th>Genre</th>\n",
              "      <th>Description</th>\n",
              "      <th>Director</th>\n",
              "      <th>Actors</th>\n",
              "      <th>Year</th>\n",
              "      <th>Runtime (Minutes)</th>\n",
              "      <th>Rating</th>\n",
              "      <th>Votes</th>\n",
              "      <th>Revenue (Millions)</th>\n",
              "      <th>Metascore</th>\n",
              "      <th>Movie_id</th>\n",
              "    </tr>\n",
              "  </thead>\n",
              "  <tbody>\n",
              "    <tr>\n",
              "      <th>0</th>\n",
              "      <td>1</td>\n",
              "      <td>Guardians of the Galaxy</td>\n",
              "      <td>Action,Adventure,Sci-Fi</td>\n",
              "      <td>A group of intergalactic criminals are forced ...</td>\n",
              "      <td>James Gunn</td>\n",
              "      <td>Chris Pratt, Vin Diesel, Bradley Cooper, Zoe S...</td>\n",
              "      <td>2014</td>\n",
              "      <td>121</td>\n",
              "      <td>8.1</td>\n",
              "      <td>757074</td>\n",
              "      <td>333.13</td>\n",
              "      <td>76.0</td>\n",
              "      <td>0</td>\n",
              "    </tr>\n",
              "    <tr>\n",
              "      <th>1</th>\n",
              "      <td>2</td>\n",
              "      <td>Prometheus</td>\n",
              "      <td>Adventure,Mystery,Sci-Fi</td>\n",
              "      <td>Following clues to the origin of mankind, a te...</td>\n",
              "      <td>Ridley Scott</td>\n",
              "      <td>Noomi Rapace, Logan Marshall-Green, Michael Fa...</td>\n",
              "      <td>2012</td>\n",
              "      <td>124</td>\n",
              "      <td>7.0</td>\n",
              "      <td>485820</td>\n",
              "      <td>126.46</td>\n",
              "      <td>65.0</td>\n",
              "      <td>1</td>\n",
              "    </tr>\n",
              "    <tr>\n",
              "      <th>2</th>\n",
              "      <td>3</td>\n",
              "      <td>Split</td>\n",
              "      <td>Horror,Thriller</td>\n",
              "      <td>Three girls are kidnapped by a man with a diag...</td>\n",
              "      <td>M. Night Shyamalan</td>\n",
              "      <td>James McAvoy, Anya Taylor-Joy, Haley Lu Richar...</td>\n",
              "      <td>2016</td>\n",
              "      <td>117</td>\n",
              "      <td>7.3</td>\n",
              "      <td>157606</td>\n",
              "      <td>138.12</td>\n",
              "      <td>62.0</td>\n",
              "      <td>2</td>\n",
              "    </tr>\n",
              "  </tbody>\n",
              "</table>\n",
              "</div>"
            ],
            "text/plain": [
              "   Rank                    Title  ... Metascore Movie_id\n",
              "0     1  Guardians of the Galaxy  ...      76.0        0\n",
              "1     2               Prometheus  ...      65.0        1\n",
              "2     3                    Split  ...      62.0        2\n",
              "\n",
              "[3 rows x 13 columns]"
            ]
          },
          "metadata": {
            "tags": []
          },
          "execution_count": 5
        }
      ]
    },
    {
      "cell_type": "code",
      "metadata": {
        "colab": {
          "base_uri": "https://localhost:8080/"
        },
        "id": "k3RzTfKM8HZo",
        "outputId": "70e7fe0b-331c-4fcb-8f7e-9f345f16163d"
      },
      "source": [
        "df.shape"
      ],
      "execution_count": 6,
      "outputs": [
        {
          "output_type": "execute_result",
          "data": {
            "text/plain": [
              "(1000, 13)"
            ]
          },
          "metadata": {
            "tags": []
          },
          "execution_count": 6
        }
      ]
    },
    {
      "cell_type": "code",
      "metadata": {
        "id": "XAcbnWdo8WnX"
      },
      "source": [
        "columns = ['Actors', 'Director', 'Genre', 'Title']"
      ],
      "execution_count": 7,
      "outputs": []
    },
    {
      "cell_type": "code",
      "metadata": {
        "colab": {
          "base_uri": "https://localhost:8080/",
          "height": 142
        },
        "id": "Yq-1GaEk8bTx",
        "outputId": "ac117320-35fd-401a-93dc-17a788a6c853"
      },
      "source": [
        "df[columns].head(3)"
      ],
      "execution_count": 8,
      "outputs": [
        {
          "output_type": "execute_result",
          "data": {
            "text/html": [
              "<div>\n",
              "<style scoped>\n",
              "    .dataframe tbody tr th:only-of-type {\n",
              "        vertical-align: middle;\n",
              "    }\n",
              "\n",
              "    .dataframe tbody tr th {\n",
              "        vertical-align: top;\n",
              "    }\n",
              "\n",
              "    .dataframe thead th {\n",
              "        text-align: right;\n",
              "    }\n",
              "</style>\n",
              "<table border=\"1\" class=\"dataframe\">\n",
              "  <thead>\n",
              "    <tr style=\"text-align: right;\">\n",
              "      <th></th>\n",
              "      <th>Actors</th>\n",
              "      <th>Director</th>\n",
              "      <th>Genre</th>\n",
              "      <th>Title</th>\n",
              "    </tr>\n",
              "  </thead>\n",
              "  <tbody>\n",
              "    <tr>\n",
              "      <th>0</th>\n",
              "      <td>Chris Pratt, Vin Diesel, Bradley Cooper, Zoe S...</td>\n",
              "      <td>James Gunn</td>\n",
              "      <td>Action,Adventure,Sci-Fi</td>\n",
              "      <td>Guardians of the Galaxy</td>\n",
              "    </tr>\n",
              "    <tr>\n",
              "      <th>1</th>\n",
              "      <td>Noomi Rapace, Logan Marshall-Green, Michael Fa...</td>\n",
              "      <td>Ridley Scott</td>\n",
              "      <td>Adventure,Mystery,Sci-Fi</td>\n",
              "      <td>Prometheus</td>\n",
              "    </tr>\n",
              "    <tr>\n",
              "      <th>2</th>\n",
              "      <td>James McAvoy, Anya Taylor-Joy, Haley Lu Richar...</td>\n",
              "      <td>M. Night Shyamalan</td>\n",
              "      <td>Horror,Thriller</td>\n",
              "      <td>Split</td>\n",
              "    </tr>\n",
              "  </tbody>\n",
              "</table>\n",
              "</div>"
            ],
            "text/plain": [
              "                                              Actors  ...                    Title\n",
              "0  Chris Pratt, Vin Diesel, Bradley Cooper, Zoe S...  ...  Guardians of the Galaxy\n",
              "1  Noomi Rapace, Logan Marshall-Green, Michael Fa...  ...               Prometheus\n",
              "2  James McAvoy, Anya Taylor-Joy, Haley Lu Richar...  ...                    Split\n",
              "\n",
              "[3 rows x 4 columns]"
            ]
          },
          "metadata": {
            "tags": []
          },
          "execution_count": 8
        }
      ]
    },
    {
      "cell_type": "code",
      "metadata": {
        "colab": {
          "base_uri": "https://localhost:8080/"
        },
        "id": "PtoykVR28d-b",
        "outputId": "b49ad959-2e02-4535-a379-70eee66e0991"
      },
      "source": [
        "df[columns].isnull().values.any()"
      ],
      "execution_count": 9,
      "outputs": [
        {
          "output_type": "execute_result",
          "data": {
            "text/plain": [
              "False"
            ]
          },
          "metadata": {
            "tags": []
          },
          "execution_count": 9
        }
      ]
    },
    {
      "cell_type": "code",
      "metadata": {
        "id": "b3nQfOOp8g01"
      },
      "source": [
        "def get_important_features(data):\n",
        "  important_features = []\n",
        "  for i in range (0, data.shape[0]):\n",
        "    important_features.append(data['Actors'][i]+' '+data['Director'][i]+' '+data['Genre'][i]+' '+data['Title'][i])\n",
        "  return important_features"
      ],
      "execution_count": 10,
      "outputs": []
    },
    {
      "cell_type": "code",
      "metadata": {
        "colab": {
          "base_uri": "https://localhost:8080/",
          "height": 468
        },
        "id": "z2wCfojQ8jE4",
        "outputId": "be73d549-4342-43ac-e2ff-5eb487b95e9b"
      },
      "source": [
        "df['important_features'] = get_important_features(df)\n",
        "\n",
        "#Show the data\n",
        "df.head(3)"
      ],
      "execution_count": 11,
      "outputs": [
        {
          "output_type": "execute_result",
          "data": {
            "text/html": [
              "<div>\n",
              "<style scoped>\n",
              "    .dataframe tbody tr th:only-of-type {\n",
              "        vertical-align: middle;\n",
              "    }\n",
              "\n",
              "    .dataframe tbody tr th {\n",
              "        vertical-align: top;\n",
              "    }\n",
              "\n",
              "    .dataframe thead th {\n",
              "        text-align: right;\n",
              "    }\n",
              "</style>\n",
              "<table border=\"1\" class=\"dataframe\">\n",
              "  <thead>\n",
              "    <tr style=\"text-align: right;\">\n",
              "      <th></th>\n",
              "      <th>Rank</th>\n",
              "      <th>Title</th>\n",
              "      <th>Genre</th>\n",
              "      <th>Description</th>\n",
              "      <th>Director</th>\n",
              "      <th>Actors</th>\n",
              "      <th>Year</th>\n",
              "      <th>Runtime (Minutes)</th>\n",
              "      <th>Rating</th>\n",
              "      <th>Votes</th>\n",
              "      <th>Revenue (Millions)</th>\n",
              "      <th>Metascore</th>\n",
              "      <th>Movie_id</th>\n",
              "      <th>important_features</th>\n",
              "    </tr>\n",
              "  </thead>\n",
              "  <tbody>\n",
              "    <tr>\n",
              "      <th>0</th>\n",
              "      <td>1</td>\n",
              "      <td>Guardians of the Galaxy</td>\n",
              "      <td>Action,Adventure,Sci-Fi</td>\n",
              "      <td>A group of intergalactic criminals are forced ...</td>\n",
              "      <td>James Gunn</td>\n",
              "      <td>Chris Pratt, Vin Diesel, Bradley Cooper, Zoe S...</td>\n",
              "      <td>2014</td>\n",
              "      <td>121</td>\n",
              "      <td>8.1</td>\n",
              "      <td>757074</td>\n",
              "      <td>333.13</td>\n",
              "      <td>76.0</td>\n",
              "      <td>0</td>\n",
              "      <td>Chris Pratt, Vin Diesel, Bradley Cooper, Zoe S...</td>\n",
              "    </tr>\n",
              "    <tr>\n",
              "      <th>1</th>\n",
              "      <td>2</td>\n",
              "      <td>Prometheus</td>\n",
              "      <td>Adventure,Mystery,Sci-Fi</td>\n",
              "      <td>Following clues to the origin of mankind, a te...</td>\n",
              "      <td>Ridley Scott</td>\n",
              "      <td>Noomi Rapace, Logan Marshall-Green, Michael Fa...</td>\n",
              "      <td>2012</td>\n",
              "      <td>124</td>\n",
              "      <td>7.0</td>\n",
              "      <td>485820</td>\n",
              "      <td>126.46</td>\n",
              "      <td>65.0</td>\n",
              "      <td>1</td>\n",
              "      <td>Noomi Rapace, Logan Marshall-Green, Michael Fa...</td>\n",
              "    </tr>\n",
              "    <tr>\n",
              "      <th>2</th>\n",
              "      <td>3</td>\n",
              "      <td>Split</td>\n",
              "      <td>Horror,Thriller</td>\n",
              "      <td>Three girls are kidnapped by a man with a diag...</td>\n",
              "      <td>M. Night Shyamalan</td>\n",
              "      <td>James McAvoy, Anya Taylor-Joy, Haley Lu Richar...</td>\n",
              "      <td>2016</td>\n",
              "      <td>117</td>\n",
              "      <td>7.3</td>\n",
              "      <td>157606</td>\n",
              "      <td>138.12</td>\n",
              "      <td>62.0</td>\n",
              "      <td>2</td>\n",
              "      <td>James McAvoy, Anya Taylor-Joy, Haley Lu Richar...</td>\n",
              "    </tr>\n",
              "  </tbody>\n",
              "</table>\n",
              "</div>"
            ],
            "text/plain": [
              "   Rank  ...                                 important_features\n",
              "0     1  ...  Chris Pratt, Vin Diesel, Bradley Cooper, Zoe S...\n",
              "1     2  ...  Noomi Rapace, Logan Marshall-Green, Michael Fa...\n",
              "2     3  ...  James McAvoy, Anya Taylor-Joy, Haley Lu Richar...\n",
              "\n",
              "[3 rows x 14 columns]"
            ]
          },
          "metadata": {
            "tags": []
          },
          "execution_count": 11
        }
      ]
    },
    {
      "cell_type": "code",
      "metadata": {
        "id": "YUI0Km2c8zlN",
        "outputId": "6907b389-b281-44c8-d750-bea053cf975e",
        "colab": {
          "base_uri": "https://localhost:8080/"
        }
      },
      "source": [
        "cm = CountVectorizer().fit_transform(df['important_features'])\n",
        "\n",
        "cs = cosine_similarity(cm)\n",
        "print(cs)"
      ],
      "execution_count": 12,
      "outputs": [
        {
          "output_type": "stream",
          "text": [
            "[[1.         0.1767767  0.06085806 ... 0.0571662  0.06537205 0.        ]\n",
            " [0.1767767  1.         0.         ... 0.         0.06933752 0.        ]\n",
            " [0.06085806 0.         1.         ... 0.         0.         0.        ]\n",
            " ...\n",
            " [0.0571662  0.         0.         ... 1.         0.06726728 0.        ]\n",
            " [0.06537205 0.06933752 0.         ... 0.06726728 1.         0.07161149]\n",
            " [0.         0.         0.         ... 0.         0.07161149 1.        ]]\n"
          ],
          "name": "stdout"
        }
      ]
    },
    {
      "cell_type": "code",
      "metadata": {
        "id": "gPlfvgdO828j",
        "outputId": "4d8887f0-18a9-4946-af5d-fda6cdae3227",
        "colab": {
          "base_uri": "https://localhost:8080/"
        }
      },
      "source": [
        "cs.shape"
      ],
      "execution_count": 13,
      "outputs": [
        {
          "output_type": "execute_result",
          "data": {
            "text/plain": [
              "(1000, 1000)"
            ]
          },
          "metadata": {
            "tags": []
          },
          "execution_count": 13
        }
      ]
    },
    {
      "cell_type": "code",
      "metadata": {
        "id": "j3zKUN9Z85Kc"
      },
      "source": [
        "title = 'The Amazing Spider-Man'\n",
        "movie_id = df[df.Title == title]['Movie_id'].values[0]"
      ],
      "execution_count": 15,
      "outputs": []
    },
    {
      "cell_type": "code",
      "metadata": {
        "id": "cLTHPJMx87zH"
      },
      "source": [
        "scores = list(enumerate(cs[movie_id]))"
      ],
      "execution_count": 16,
      "outputs": []
    },
    {
      "cell_type": "code",
      "metadata": {
        "id": "Ct23fWAn895G"
      },
      "source": [
        "sorted_scores = sorted(scores, key = lambda x:x[1], reverse= True)\n",
        "sorted_scores = sorted_scores[1:]"
      ],
      "execution_count": 17,
      "outputs": []
    },
    {
      "cell_type": "code",
      "metadata": {
        "id": "dtmYloJN9AKn",
        "outputId": "7027a90e-3b27-4472-e64a-3b1f28bc42c9",
        "colab": {
          "base_uri": "https://localhost:8080/"
        }
      },
      "source": [
        "print(sorted_scores)"
      ],
      "execution_count": 18,
      "outputs": [
        {
          "output_type": "stream",
          "text": [
            "[(253, 0.7071067811865475), (149, 0.2672612419124244), (239, 0.2581988897471611), (344, 0.2581988897471611), (104, 0.25), (821, 0.23570226039551587), (78, 0.22360679774997896), (558, 0.2182178902359924), (739, 0.21320071635561041), (314, 0.20851441405707477), (767, 0.20412414523193154), (26, 0.2004459314343183), (55, 0.2004459314343183), (92, 0.2004459314343183), (363, 0.2004459314343183), (718, 0.2004459314343183), (176, 0.2), (313, 0.19611613513818404), (179, 0.19364916731037082), (303, 0.19364916731037082), (324, 0.19364916731037082), (379, 0.19364916731037082), (600, 0.19364916731037082), (694, 0.19364916731037082), (728, 0.19364916731037082), (5, 0.1875), (38, 0.1875), (294, 0.1875), (345, 0.1875), (389, 0.1875), (432, 0.1875), (529, 0.1875), (537, 0.1875), (581, 0.1875), (758, 0.1875), (770, 0.1875), (969, 0.1875), (8, 0.18190171877724973), (65, 0.18190171877724973), (107, 0.18190171877724973), (203, 0.18190171877724973), (214, 0.18190171877724973), (388, 0.18190171877724973), (396, 0.18190171877724973), (450, 0.18190171877724973), (491, 0.18190171877724973), (575, 0.18190171877724973), (626, 0.18190171877724973), (879, 0.18190171877724973), (916, 0.18190171877724973), (0, 0.1767766952966369), (234, 0.1767766952966369), (279, 0.1767766952966369), (316, 0.1767766952966369), (325, 0.1767766952966369), (384, 0.1767766952966369), (564, 0.1767766952966369), (827, 0.1767766952966369), (990, 0.1767766952966369), (50, 0.1720618004029213), (195, 0.1720618004029213), (216, 0.1720618004029213), (560, 0.1720618004029213), (609, 0.1720618004029213), (710, 0.1720618004029213), (45, 0.16770509831248423), (75, 0.16770509831248423), (114, 0.16770509831248423), (418, 0.16770509831248423), (473, 0.16770509831248423), (518, 0.16770509831248423), (566, 0.16770509831248423), (822, 0.16770509831248423), (264, 0.1636634176769943), (408, 0.1636634176769943), (578, 0.1636634176769943), (680, 0.1636634176769943), (843, 0.1636634176769943), (806, 0.1599005372667078), (308, 0.1563858105428061), (244, 0.15309310892394865), (629, 0.15309310892394865), (257, 0.15000000000000002), (613, 0.14708710135363803), (284, 0.1386750490563073), (317, 0.1386750490563073), (659, 0.1386750490563073), (87, 0.1336306209562122), (89, 0.1336306209562122), (91, 0.1336306209562122), (101, 0.1336306209562122), (127, 0.1336306209562122), (169, 0.1336306209562122), (175, 0.1336306209562122), (204, 0.1336306209562122), (228, 0.1336306209562122), (256, 0.1336306209562122), (270, 0.1336306209562122), (275, 0.1336306209562122), (390, 0.1336306209562122), (400, 0.1336306209562122), (448, 0.1336306209562122), (508, 0.1336306209562122), (515, 0.1336306209562122), (589, 0.1336306209562122), (634, 0.1336306209562122), (802, 0.1336306209562122), (856, 0.1336306209562122), (920, 0.1336306209562122), (4, 0.12909944487358055), (16, 0.12909944487358055), (29, 0.12909944487358055), (33, 0.12909944487358055), (117, 0.12909944487358055), (119, 0.12909944487358055), (140, 0.12909944487358055), (150, 0.12909944487358055), (164, 0.12909944487358055), (172, 0.12909944487358055), (210, 0.12909944487358055), (212, 0.12909944487358055), (217, 0.12909944487358055), (227, 0.12909944487358055), (232, 0.12909944487358055), (355, 0.12909944487358055), (369, 0.12909944487358055), (385, 0.12909944487358055), (391, 0.12909944487358055), (472, 0.12909944487358055), (484, 0.12909944487358055), (577, 0.12909944487358055), (597, 0.12909944487358055), (625, 0.12909944487358055), (663, 0.12909944487358055), (687, 0.12909944487358055), (693, 0.12909944487358055), (721, 0.12909944487358055), (736, 0.12909944487358055), (755, 0.12909944487358055), (759, 0.12909944487358055), (771, 0.12909944487358055), (787, 0.12909944487358055), (810, 0.12909944487358055), (833, 0.12909944487358055), (880, 0.12909944487358055), (897, 0.12909944487358055), (12, 0.125), (32, 0.125), (51, 0.125), (54, 0.125), (76, 0.125), (80, 0.125), (95, 0.125), (102, 0.125), (124, 0.125), (125, 0.125), (129, 0.125), (131, 0.125), (157, 0.125), (205, 0.125), (220, 0.125), (221, 0.125), (281, 0.125), (287, 0.125), (300, 0.125), (323, 0.125), (387, 0.125), (414, 0.125), (427, 0.125), (454, 0.125), (469, 0.125), (527, 0.125), (528, 0.125), (552, 0.125), (553, 0.125), (576, 0.125), (593, 0.125), (603, 0.125), (673, 0.125), (724, 0.125), (775, 0.125), (794, 0.125), (854, 0.125), (869, 0.125), (901, 0.125), (924, 0.125), (993, 0.125), (6, 0.12126781251816648), (15, 0.12126781251816648), (24, 0.12126781251816648), (37, 0.12126781251816648), (48, 0.12126781251816648), (85, 0.12126781251816648), (151, 0.12126781251816648), (166, 0.12126781251816648), (197, 0.12126781251816648), (200, 0.12126781251816648), (215, 0.12126781251816648), (224, 0.12126781251816648), (233, 0.12126781251816648), (235, 0.12126781251816648), (238, 0.12126781251816648), (268, 0.12126781251816648), (271, 0.12126781251816648), (286, 0.12126781251816648), (362, 0.12126781251816648), (378, 0.12126781251816648), (433, 0.12126781251816648), (496, 0.12126781251816648), (516, 0.12126781251816648), (525, 0.12126781251816648), (657, 0.12126781251816648), (698, 0.12126781251816648), (712, 0.12126781251816648), (741, 0.12126781251816648), (779, 0.12126781251816648), (799, 0.12126781251816648), (878, 0.12126781251816648), (919, 0.12126781251816648), (938, 0.12126781251816648), (941, 0.12126781251816648), (967, 0.12126781251816648), (67, 0.11785113019775793), (126, 0.11785113019775793), (163, 0.11785113019775793), (171, 0.11785113019775793), (243, 0.11785113019775793), (302, 0.11785113019775793), (371, 0.11785113019775793), (440, 0.11785113019775793), (447, 0.11785113019775793), (837, 0.11785113019775793), (871, 0.11785113019775793), (903, 0.11785113019775793), (948, 0.11785113019775793), (34, 0.11470786693528087), (35, 0.11470786693528087), (60, 0.11470786693528087), (110, 0.11470786693528087), (156, 0.11470786693528087), (158, 0.11470786693528087), (162, 0.11470786693528087), (306, 0.11470786693528087), (366, 0.11470786693528087), (429, 0.11470786693528087), (465, 0.11470786693528087), (507, 0.11470786693528087), (604, 0.11470786693528087), (772, 0.11470786693528087), (921, 0.11470786693528087), (925, 0.11470786693528087), (62, 0.11180339887498948), (500, 0.11180339887498948), (683, 0.11180339887498948), (953, 0.11180339887498948), (978, 0.11180339887498948), (991, 0.11180339887498948), (94, 0.1091089451179962), (135, 0.1091089451179962), (209, 0.1091089451179962), (223, 0.1091089451179962), (510, 0.1091089451179962), (679, 0.1091089451179962), (935, 0.1091089451179962), (911, 0.10660035817780521), (619, 0.10425720702853739), (430, 0.07216878364870323), (863, 0.07216878364870323), (152, 0.06933752452815364), (255, 0.06933752452815364), (410, 0.06933752452815364), (421, 0.06933752452815364), (437, 0.06933752452815364), (462, 0.06933752452815364), (605, 0.06933752452815364), (606, 0.06933752452815364), (624, 0.06933752452815364), (631, 0.06933752452815364), (678, 0.06933752452815364), (730, 0.06933752452815364), (740, 0.06933752452815364), (844, 0.06933752452815364), (846, 0.06933752452815364), (890, 0.06933752452815364), (932, 0.06933752452815364), (966, 0.06933752452815364), (998, 0.06933752452815364), (9, 0.0668153104781061), (13, 0.0668153104781061), (30, 0.0668153104781061), (47, 0.0668153104781061), (49, 0.0668153104781061), (71, 0.0668153104781061), (74, 0.0668153104781061), (79, 0.0668153104781061), (106, 0.0668153104781061), (113, 0.0668153104781061), (123, 0.0668153104781061), (134, 0.0668153104781061), (174, 0.0668153104781061), (194, 0.0668153104781061), (240, 0.0668153104781061), (242, 0.0668153104781061), (248, 0.0668153104781061), (285, 0.0668153104781061), (288, 0.0668153104781061), (293, 0.0668153104781061), (295, 0.0668153104781061), (312, 0.0668153104781061), (322, 0.0668153104781061), (330, 0.0668153104781061), (346, 0.0668153104781061), (352, 0.0668153104781061), (370, 0.0668153104781061), (372, 0.0668153104781061), (373, 0.0668153104781061), (375, 0.0668153104781061), (386, 0.0668153104781061), (401, 0.0668153104781061), (407, 0.0668153104781061), (409, 0.0668153104781061), (416, 0.0668153104781061), (420, 0.0668153104781061), (444, 0.0668153104781061), (446, 0.0668153104781061), (451, 0.0668153104781061), (452, 0.0668153104781061), (464, 0.0668153104781061), (466, 0.0668153104781061), (482, 0.0668153104781061), (492, 0.0668153104781061), (499, 0.0668153104781061), (511, 0.0668153104781061), (517, 0.0668153104781061), (522, 0.0668153104781061), (554, 0.0668153104781061), (565, 0.0668153104781061), (587, 0.0668153104781061), (599, 0.0668153104781061), (623, 0.0668153104781061), (642, 0.0668153104781061), (654, 0.0668153104781061), (666, 0.0668153104781061), (675, 0.0668153104781061), (699, 0.0668153104781061), (703, 0.0668153104781061), (729, 0.0668153104781061), (763, 0.0668153104781061), (765, 0.0668153104781061), (777, 0.0668153104781061), (786, 0.0668153104781061), (789, 0.0668153104781061), (824, 0.0668153104781061), (828, 0.0668153104781061), (834, 0.0668153104781061), (883, 0.0668153104781061), (946, 0.0668153104781061), (951, 0.0668153104781061), (956, 0.0668153104781061), (968, 0.0668153104781061), (984, 0.0668153104781061), (986, 0.0668153104781061), (14, 0.06454972243679027), (17, 0.06454972243679027), (20, 0.06454972243679027), (21, 0.06454972243679027), (23, 0.06454972243679027), (36, 0.06454972243679027), (40, 0.06454972243679027), (53, 0.06454972243679027), (69, 0.06454972243679027), (77, 0.06454972243679027), (84, 0.06454972243679027), (99, 0.06454972243679027), (121, 0.06454972243679027), (137, 0.06454972243679027), (147, 0.06454972243679027), (153, 0.06454972243679027), (159, 0.06454972243679027), (161, 0.06454972243679027), (178, 0.06454972243679027), (202, 0.06454972243679027), (213, 0.06454972243679027), (226, 0.06454972243679027), (237, 0.06454972243679027), (241, 0.06454972243679027), (254, 0.06454972243679027), (274, 0.06454972243679027), (298, 0.06454972243679027), (301, 0.06454972243679027), (318, 0.06454972243679027), (319, 0.06454972243679027), (331, 0.06454972243679027), (334, 0.06454972243679027), (340, 0.06454972243679027), (341, 0.06454972243679027), (354, 0.06454972243679027), (402, 0.06454972243679027), (403, 0.06454972243679027), (412, 0.06454972243679027), (453, 0.06454972243679027), (456, 0.06454972243679027), (468, 0.06454972243679027), (485, 0.06454972243679027), (493, 0.06454972243679027), (512, 0.06454972243679027), (513, 0.06454972243679027), (521, 0.06454972243679027), (526, 0.06454972243679027), (536, 0.06454972243679027), (540, 0.06454972243679027), (557, 0.06454972243679027), (559, 0.06454972243679027), (572, 0.06454972243679027), (580, 0.06454972243679027), (588, 0.06454972243679027), (592, 0.06454972243679027), (610, 0.06454972243679027), (618, 0.06454972243679027), (621, 0.06454972243679027), (627, 0.06454972243679027), (649, 0.06454972243679027), (669, 0.06454972243679027), (676, 0.06454972243679027), (682, 0.06454972243679027), (688, 0.06454972243679027), (691, 0.06454972243679027), (702, 0.06454972243679027), (707, 0.06454972243679027), (717, 0.06454972243679027), (727, 0.06454972243679027), (731, 0.06454972243679027), (735, 0.06454972243679027), (743, 0.06454972243679027), (753, 0.06454972243679027), (760, 0.06454972243679027), (766, 0.06454972243679027), (780, 0.06454972243679027), (796, 0.06454972243679027), (797, 0.06454972243679027), (805, 0.06454972243679027), (815, 0.06454972243679027), (817, 0.06454972243679027), (855, 0.06454972243679027), (892, 0.06454972243679027), (895, 0.06454972243679027), (898, 0.06454972243679027), (904, 0.06454972243679027), (923, 0.06454972243679027), (929, 0.06454972243679027), (944, 0.06454972243679027), (949, 0.06454972243679027), (958, 0.06454972243679027), (1, 0.0625), (22, 0.0625), (42, 0.0625), (64, 0.0625), (70, 0.0625), (97, 0.0625), (116, 0.0625), (142, 0.0625), (168, 0.0625), (190, 0.0625), (198, 0.0625), (199, 0.0625), (219, 0.0625), (249, 0.0625), (272, 0.0625), (276, 0.0625), (283, 0.0625), (297, 0.0625), (315, 0.0625), (332, 0.0625), (342, 0.0625), (343, 0.0625), (358, 0.0625), (404, 0.0625), (405, 0.0625), (424, 0.0625), (436, 0.0625), (445, 0.0625), (461, 0.0625), (475, 0.0625), (481, 0.0625), (532, 0.0625), (533, 0.0625), (542, 0.0625), (555, 0.0625), (563, 0.0625), (570, 0.0625), (579, 0.0625), (585, 0.0625), (596, 0.0625), (601, 0.0625), (612, 0.0625), (615, 0.0625), (660, 0.0625), (661, 0.0625), (672, 0.0625), (685, 0.0625), (704, 0.0625), (705, 0.0625), (733, 0.0625), (737, 0.0625), (764, 0.0625), (774, 0.0625), (781, 0.0625), (791, 0.0625), (814, 0.0625), (819, 0.0625), (835, 0.0625), (858, 0.0625), (872, 0.0625), (886, 0.0625), (887, 0.0625), (912, 0.0625), (927, 0.0625), (934, 0.0625), (936, 0.0625), (940, 0.0625), (954, 0.0625), (979, 0.0625), (985, 0.0625), (88, 0.06063390625908324), (112, 0.06063390625908324), (154, 0.06063390625908324), (296, 0.06063390625908324), (310, 0.06063390625908324), (326, 0.06063390625908324), (338, 0.06063390625908324), (357, 0.06063390625908324), (367, 0.06063390625908324), (547, 0.06063390625908324), (550, 0.06063390625908324), (628, 0.06063390625908324), (690, 0.06063390625908324), (706, 0.06063390625908324), (714, 0.06063390625908324), (732, 0.06063390625908324), (762, 0.06063390625908324), (798, 0.06063390625908324), (807, 0.06063390625908324), (852, 0.06063390625908324), (870, 0.06063390625908324), (917, 0.06063390625908324), (962, 0.06063390625908324), (963, 0.06063390625908324), (982, 0.06063390625908324), (997, 0.06063390625908324), (61, 0.05892556509887897), (82, 0.05892556509887897), (132, 0.05892556509887897), (146, 0.05892556509887897), (155, 0.05892556509887897), (181, 0.05892556509887897), (290, 0.05892556509887897), (395, 0.05892556509887897), (423, 0.05892556509887897), (438, 0.05892556509887897), (494, 0.05892556509887897), (506, 0.05892556509887897), (535, 0.05892556509887897), (556, 0.05892556509887897), (568, 0.05892556509887897), (617, 0.05892556509887897), (640, 0.05892556509887897), (667, 0.05892556509887897), (674, 0.05892556509887897), (708, 0.05892556509887897), (773, 0.05892556509887897), (864, 0.05892556509887897), (867, 0.05892556509887897), (881, 0.05892556509887897), (894, 0.05892556509887897), (918, 0.05892556509887897), (939, 0.05892556509887897), (43, 0.057353933467640436), (120, 0.057353933467640436), (122, 0.057353933467640436), (177, 0.057353933467640436), (425, 0.057353933467640436), (434, 0.057353933467640436), (460, 0.057353933467640436), (809, 0.057353933467640436), (893, 0.057353933467640436), (952, 0.057353933467640436), (961, 0.057353933467640436), (10, 0.05590169943749474), (422, 0.05590169943749474), (426, 0.05590169943749474), (476, 0.05590169943749474), (749, 0.05590169943749474), (784, 0.05590169943749474), (260, 0.0545544725589981), (803, 0.0545544725589981), (327, 0.053300179088902604), (650, 0.053300179088902604), (862, 0.053300179088902604), (950, 0.053300179088902604), (259, 0.05212860351426869), (632, 0.05212860351426869), (380, 0.051031036307982884), (745, 0.051031036307982884), (2, 0.0), (3, 0.0), (7, 0.0), (11, 0.0), (18, 0.0), (19, 0.0), (25, 0.0), (27, 0.0), (28, 0.0), (31, 0.0), (39, 0.0), (41, 0.0), (44, 0.0), (46, 0.0), (52, 0.0), (56, 0.0), (57, 0.0), (58, 0.0), (59, 0.0), (63, 0.0), (66, 0.0), (68, 0.0), (72, 0.0), (73, 0.0), (81, 0.0), (83, 0.0), (86, 0.0), (90, 0.0), (93, 0.0), (96, 0.0), (98, 0.0), (100, 0.0), (103, 0.0), (105, 0.0), (108, 0.0), (109, 0.0), (111, 0.0), (115, 0.0), (118, 0.0), (128, 0.0), (130, 0.0), (133, 0.0), (136, 0.0), (138, 0.0), (139, 0.0), (141, 0.0), (143, 0.0), (144, 0.0), (145, 0.0), (148, 0.0), (160, 0.0), (165, 0.0), (167, 0.0), (170, 0.0), (173, 0.0), (180, 0.0), (182, 0.0), (183, 0.0), (184, 0.0), (185, 0.0), (186, 0.0), (187, 0.0), (188, 0.0), (189, 0.0), (191, 0.0), (192, 0.0), (193, 0.0), (196, 0.0), (201, 0.0), (206, 0.0), (207, 0.0), (208, 0.0), (211, 0.0), (218, 0.0), (222, 0.0), (225, 0.0), (229, 0.0), (230, 0.0), (231, 0.0), (236, 0.0), (245, 0.0), (246, 0.0), (247, 0.0), (250, 0.0), (251, 0.0), (252, 0.0), (258, 0.0), (261, 0.0), (262, 0.0), (263, 0.0), (265, 0.0), (266, 0.0), (267, 0.0), (269, 0.0), (273, 0.0), (277, 0.0), (278, 0.0), (280, 0.0), (282, 0.0), (289, 0.0), (291, 0.0), (292, 0.0), (299, 0.0), (304, 0.0), (305, 0.0), (307, 0.0), (309, 0.0), (311, 0.0), (320, 0.0), (321, 0.0), (328, 0.0), (329, 0.0), (333, 0.0), (335, 0.0), (336, 0.0), (337, 0.0), (339, 0.0), (347, 0.0), (348, 0.0), (349, 0.0), (350, 0.0), (351, 0.0), (353, 0.0), (356, 0.0), (359, 0.0), (360, 0.0), (361, 0.0), (364, 0.0), (365, 0.0), (374, 0.0), (376, 0.0), (377, 0.0), (381, 0.0), (382, 0.0), (383, 0.0), (392, 0.0), (393, 0.0), (394, 0.0), (397, 0.0), (398, 0.0), (399, 0.0), (406, 0.0), (411, 0.0), (413, 0.0), (415, 0.0), (417, 0.0), (419, 0.0), (428, 0.0), (431, 0.0), (435, 0.0), (439, 0.0), (441, 0.0), (442, 0.0), (443, 0.0), (449, 0.0), (455, 0.0), (457, 0.0), (458, 0.0), (459, 0.0), (463, 0.0), (467, 0.0), (470, 0.0), (471, 0.0), (474, 0.0), (477, 0.0), (478, 0.0), (479, 0.0), (480, 0.0), (483, 0.0), (486, 0.0), (487, 0.0), (488, 0.0), (489, 0.0), (490, 0.0), (495, 0.0), (497, 0.0), (498, 0.0), (501, 0.0), (502, 0.0), (503, 0.0), (504, 0.0), (505, 0.0), (509, 0.0), (514, 0.0), (519, 0.0), (520, 0.0), (523, 0.0), (524, 0.0), (530, 0.0), (531, 0.0), (534, 0.0), (538, 0.0), (539, 0.0), (541, 0.0), (543, 0.0), (544, 0.0), (545, 0.0), (546, 0.0), (548, 0.0), (549, 0.0), (551, 0.0), (561, 0.0), (562, 0.0), (567, 0.0), (569, 0.0), (571, 0.0), (573, 0.0), (574, 0.0), (582, 0.0), (583, 0.0), (584, 0.0), (586, 0.0), (590, 0.0), (591, 0.0), (594, 0.0), (595, 0.0), (598, 0.0), (602, 0.0), (607, 0.0), (608, 0.0), (611, 0.0), (614, 0.0), (616, 0.0), (620, 0.0), (622, 0.0), (630, 0.0), (633, 0.0), (635, 0.0), (636, 0.0), (637, 0.0), (638, 0.0), (639, 0.0), (641, 0.0), (643, 0.0), (644, 0.0), (645, 0.0), (646, 0.0), (647, 0.0), (648, 0.0), (651, 0.0), (652, 0.0), (653, 0.0), (655, 0.0), (656, 0.0), (658, 0.0), (662, 0.0), (664, 0.0), (665, 0.0), (668, 0.0), (670, 0.0), (671, 0.0), (677, 0.0), (681, 0.0), (684, 0.0), (686, 0.0), (689, 0.0), (692, 0.0), (695, 0.0), (696, 0.0), (697, 0.0), (700, 0.0), (701, 0.0), (709, 0.0), (711, 0.0), (713, 0.0), (715, 0.0), (716, 0.0), (719, 0.0), (720, 0.0), (722, 0.0), (723, 0.0), (725, 0.0), (726, 0.0), (734, 0.0), (738, 0.0), (742, 0.0), (744, 0.0), (746, 0.0), (747, 0.0), (748, 0.0), (750, 0.0), (751, 0.0), (752, 0.0), (754, 0.0), (756, 0.0), (757, 0.0), (761, 0.0), (768, 0.0), (769, 0.0), (776, 0.0), (778, 0.0), (782, 0.0), (783, 0.0), (785, 0.0), (788, 0.0), (790, 0.0), (792, 0.0), (793, 0.0), (795, 0.0), (800, 0.0), (801, 0.0), (804, 0.0), (808, 0.0), (811, 0.0), (812, 0.0), (813, 0.0), (816, 0.0), (818, 0.0), (820, 0.0), (823, 0.0), (825, 0.0), (826, 0.0), (829, 0.0), (830, 0.0), (831, 0.0), (832, 0.0), (836, 0.0), (838, 0.0), (839, 0.0), (840, 0.0), (841, 0.0), (842, 0.0), (845, 0.0), (847, 0.0), (848, 0.0), (849, 0.0), (850, 0.0), (851, 0.0), (853, 0.0), (857, 0.0), (859, 0.0), (860, 0.0), (861, 0.0), (865, 0.0), (866, 0.0), (868, 0.0), (873, 0.0), (874, 0.0), (875, 0.0), (876, 0.0), (877, 0.0), (882, 0.0), (884, 0.0), (885, 0.0), (888, 0.0), (889, 0.0), (891, 0.0), (896, 0.0), (899, 0.0), (900, 0.0), (902, 0.0), (905, 0.0), (906, 0.0), (907, 0.0), (908, 0.0), (909, 0.0), (910, 0.0), (913, 0.0), (914, 0.0), (915, 0.0), (922, 0.0), (926, 0.0), (928, 0.0), (930, 0.0), (931, 0.0), (933, 0.0), (937, 0.0), (942, 0.0), (943, 0.0), (945, 0.0), (947, 0.0), (955, 0.0), (957, 0.0), (959, 0.0), (960, 0.0), (964, 0.0), (965, 0.0), (970, 0.0), (971, 0.0), (972, 0.0), (973, 0.0), (974, 0.0), (975, 0.0), (976, 0.0), (977, 0.0), (980, 0.0), (981, 0.0), (983, 0.0), (987, 0.0), (988, 0.0), (989, 0.0), (992, 0.0), (994, 0.0), (995, 0.0), (996, 0.0), (999, 0.0)]\n"
          ],
          "name": "stdout"
        }
      ]
    }
  ]
}